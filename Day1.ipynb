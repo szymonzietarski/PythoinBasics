{
  "nbformat": 4,
  "nbformat_minor": 0,
  "metadata": {
    "colab": {
      "provenance": [],
      "authorship_tag": "ABX9TyOo2n1FRcUakCvPZ5SjkGgh",
      "include_colab_link": true
    },
    "kernelspec": {
      "name": "python3",
      "display_name": "Python 3"
    },
    "language_info": {
      "name": "python"
    }
  },
  "cells": [
    {
      "cell_type": "markdown",
      "metadata": {
        "id": "view-in-github",
        "colab_type": "text"
      },
      "source": [
        "<a href=\"https://colab.research.google.com/github/szymonzietarski/PythoinBasics/blob/main/Day1.ipynb\" target=\"_parent\"><img src=\"https://colab.research.google.com/assets/colab-badge.svg\" alt=\"Open In Colab\"/></a>"
      ]
    },
    {
      "cell_type": "code",
      "source": [
        "print('Trudne początki')"
      ],
      "metadata": {
        "colab": {
          "base_uri": "https://localhost:8080/"
        },
        "id": "HgOeZhEH2tlJ",
        "outputId": "00ccb8cf-c8f8-4b88-980a-1997d6c13ec2"
      },
      "execution_count": 5,
      "outputs": [
        {
          "output_type": "stream",
          "name": "stdout",
          "text": [
            "Trudne początki\n"
          ]
        }
      ]
    },
    {
      "cell_type": "code",
      "source": [
        "name=input('What is your name \\n')"
      ],
      "metadata": {
        "colab": {
          "base_uri": "https://localhost:8080/"
        },
        "id": "QpbaDplVEMrb",
        "outputId": "a01c1742-c91a-48b1-e783-352835193776"
      },
      "execution_count": 6,
      "outputs": [
        {
          "name": "stdout",
          "output_type": "stream",
          "text": [
            "What is your name \n",
            "Karol\n"
          ]
        }
      ]
    },
    {
      "cell_type": "code",
      "source": [
        "name=input('What is your name \\n')"
      ],
      "metadata": {
        "colab": {
          "base_uri": "https://localhost:8080/"
        },
        "id": "GMxnD3PnEm6R",
        "outputId": "af15cf29-b4ad-4728-aabd-7d1b7aeb7c32"
      },
      "execution_count": 7,
      "outputs": [
        {
          "name": "stdout",
          "output_type": "stream",
          "text": [
            "What is your name \n",
            "name=input('What is your name \\n')\n"
          ]
        }
      ]
    },
    {
      "cell_type": "code",
      "source": [
        "#ex.1 Wirte a program which asks your name and birth year and outputs how old are you\n",
        "import datetime\n",
        "from dateutil import relativedelta\n",
        "from datetime import date\n",
        "name=input('What is your name \\n')\n",
        "\n",
        "birthy=int(input('Please write your birthday year \\n'))\n",
        "birthm=int(input('Please write your birthday month \\n'))\n",
        "birthd=int(input('Please write your birthday day \\n'))\n",
        "\n",
        "today = datetime.date.today()\n",
        "year=int(today.year)\n",
        "month=int(today.month)\n",
        "day=int(today.day)\n",
        "date1 = date(birthy, birthm, birthd)\n",
        "date2 = date(year, month, day)\n",
        "diff = relativedelta.relativedelta(date2, date1)\n",
        "years = diff.years\n",
        "months = diff.months\n",
        "days = diff.days\n",
        "\n",
        "print(name,'you are',years,'years', months,'months', days,'days', 'old')\n",
        "\n"
      ],
      "metadata": {
        "colab": {
          "base_uri": "https://localhost:8080/"
        },
        "id": "2_5DSa0LEq4J",
        "outputId": "dc22ba79-64ba-4d57-e72a-2996f18b2cd4"
      },
      "execution_count": 60,
      "outputs": [
        {
          "output_type": "stream",
          "name": "stdout",
          "text": [
            "What is your name \n",
            "Artur\n",
            "Please write your birthday year \n",
            "1987\n",
            "Please write your birthday month \n",
            "5\n",
            "Please write your birthday day \n",
            "8\n",
            "Artur you are 35 years 8 months 2 days old\n"
          ]
        }
      ]
    },
    {
      "cell_type": "code",
      "source": [
        "#ex.2 Write a program that asks the user to enter two numbers a and b and prints their sum, difference, product, quotient, √a+b and a^b,b^a\n",
        "\n",
        "import math\n",
        "a=input('Please type first number - a\\n')\n",
        "b=input('Please type second number - b\\n')\n",
        "\n",
        "a=int(a)\n",
        "b=int(b)\n",
        "\n",
        "print('The sum is :', a+b)\n",
        "print('The subtraction difference is :', a-b)\n",
        "print('The product is :', a*b)\n",
        "print('The quotient :', a/b)\n",
        "print('The square root of sum is :', math.sqrt(a+b))\n",
        "print('The a to the power of b:' , a**b)\n",
        "print('The a to the power of b:' , b**a)\n"
      ],
      "metadata": {
        "colab": {
          "base_uri": "https://localhost:8080/"
        },
        "id": "qj08PKX8EvyW",
        "outputId": "f5e3dd12-d927-4afa-9cde-d17c024fe3d3"
      },
      "execution_count": 34,
      "outputs": [
        {
          "output_type": "stream",
          "name": "stdout",
          "text": [
            "please type first number - a\n",
            "3\n",
            "please type second number - b\n",
            "4\n",
            "The sum is : 7\n",
            "The subtraction difference is : -1\n",
            "The product is : 12\n",
            "The quotient : 0.75\n",
            "The square root of sum is : 2.6457513110645907\n",
            "The a to the power of b: 81\n",
            "The a to the power of b: 64\n"
          ]
        }
      ]
    },
    {
      "cell_type": "code",
      "source": [
        "\n",
        "import math\n",
        "x=int(input('Please type first coordinate - x\\n'))\n",
        "y=int(input('Please type second coordinate - y\\n'))\n",
        "z=int(input('Please type third coordinate - z\\n'))\n",
        "#spherical\n",
        "r=math.sqrt(x**2+y**2+z**2)\n",
        "fi=math.atan(y/x)\n",
        "theta=math.asin(z/r)\n",
        "print('Spherical coordinates are \\n','r:', round(r,2), '\\u03A6:', round(fi,2),'\\u03B8:', round(theta,2))\n",
        "#cylindrical\n",
        "ro=math.sqrt(x**2+y**2)\n",
        "cosfi=x/(math.sqrt(x**2+y**2))*180/math.pi\n",
        "print('Cylindrical coordinates are \\n','\\u03C1:', round(ro,2), '\\u03A6:', round(cosfi,2),'z:', z)"
      ],
      "metadata": {
        "id": "v2XZQaIUI6Mj"
      },
      "execution_count": null,
      "outputs": []
    },
    {
      "cell_type": "code",
      "source": [
        "\n"
      ],
      "metadata": {
        "id": "-30S0uOBLyrK"
      },
      "execution_count": null,
      "outputs": []
    }
  ]
}